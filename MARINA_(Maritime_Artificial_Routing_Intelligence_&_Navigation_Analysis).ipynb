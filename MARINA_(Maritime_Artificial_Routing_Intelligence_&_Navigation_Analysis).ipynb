{
  "nbformat": 4,
  "nbformat_minor": 0,
  "metadata": {
    "colab": {
      "provenance": [],
      "authorship_tag": "ABX9TyP9uGoxfSZp2eaeDSGSdYLz",
      "include_colab_link": true
    },
    "kernelspec": {
      "name": "python3",
      "display_name": "Python 3"
    },
    "language_info": {
      "name": "python"
    }
  },
  "cells": [
    {
      "cell_type": "markdown",
      "metadata": {
        "id": "view-in-github",
        "colab_type": "text"
      },
      "source": [
        "<a href=\"https://colab.research.google.com/github/brunoesperante73/MARINA-model/blob/main/MARINA_(Maritime_Artificial_Routing_Intelligence_%26_Navigation_Analysis).ipynb\" target=\"_parent\"><img src=\"https://colab.research.google.com/assets/colab-badge.svg\" alt=\"Open In Colab\"/></a>"
      ]
    },
    {
      "cell_type": "markdown",
      "source": [
        "#**MARINA**\n",
        "##maritime artificial routing intelligence & navigation analysis"
      ],
      "metadata": {
        "id": "c6wBKT3_trj7"
      }
    },
    {
      "cell_type": "code",
      "source": [
        "# Configuração das APIs\n",
        "API_KEY_WEATHER = \"SUA_CHAVE_OPENWEATHER\"\n",
        "API_KEY_MARINETRAFFIC = \"SUA_CHAVE_MARINETRAFFIC\"\n",
        "WEATHER_URL = \"https://api.openweathermap.org/data/2.5/weather\"\n",
        "AIS_URL = \"https://services.marinetraffic.com/api/exportvessel/v:5/\"\n",
        "\n",
        "# Estilo gráfico inspirado no escritório 300000kms\n",
        "def plot_map(dataframe, ships, route):\n",
        "    fig, ax = plt.subplots(figsize=(12, 8))\n",
        "    dataframe.plot(ax=ax, color='lightgray', edgecolor='white', linewidth=0.5)\n",
        "\n",
        "    for ship in ships:\n",
        "        plt.scatter(ship[\"lon\"], ship[\"lat\"], color='red', s=40, label=ship[\"name\"][:10])\n",
        "\n",
        "    if route is not None:\n",
        "        plt.plot(route[:, 1], route[:, 0], color='blue', linewidth=2, linestyle='dashed', label=\"Rota Prevista\")\n",
        "\n",
        "    plt.title(\"Tráfego Marítimo e Rotas Previstas\", fontsize=14, fontweight='bold')\n",
        "    plt.axis(\"off\")\n",
        "    plt.show()\n",
        "\n",
        "# Função para obter dados climáticos reais\n",
        "def get_weather_data(lat, lon):\n",
        "    params = {\"lat\": lat, \"lon\": lon, \"appid\": API_KEY_WEATHER, \"units\": \"metric\"}\n",
        "    response = requests.get(WEATHER_URL, params=params)\n",
        "    if response.status_code == 200:\n",
        "        data = response.json()\n",
        "        wind_speed = data[\"wind\"][\"speed\"]\n",
        "        wave_height = data.get(\"waves\", {}).get(\"height\", 2.0)\n",
        "        return wind_speed, wave_height\n",
        "    return 10.0, 2.0\n",
        "\n",
        "# Função para obter tráfego marítimo\n",
        "def get_ais_data(lat, lon, radius=10):\n",
        "    params = {\n",
        "        \"key\": API_KEY_MARINETRAFFIC,\n",
        "        \"lat\": lat,\n",
        "        \"lon\": lon,\n",
        "        \"radius\": radius,\n",
        "        \"format\": \"json\"\n",
        "    }\n",
        "    response = requests.get(AIS_URL, params=params)\n",
        "    if response.status_code == 200:\n",
        "        return response.json()\n",
        "    return []\n",
        "\n",
        "# Simulação de um dataset expandido (latitude, longitude, velocidade, clima, tempo de viagem)\n",
        "route_data = np.array([\n",
        "    [12.34, -45.67, 18.0, 2.5, 5.2],\n",
        "    [14.56, -47.89, 22.0, 1.8, 4.8],\n",
        "    [16.78, -50.12, 15.0, 3.2, 6.1],\n",
        "])\n",
        "\n",
        "# Criando um modelo mais robusto de aprendizado de máquina\n",
        "model = keras.Sequential([\n",
        "    keras.layers.Dense(32, activation='relu', input_shape=(3,)),\n",
        "    keras.layers.Dense(16, activation='relu'),\n",
        "    keras.layers.Dense(1)\n",
        "])\n",
        "\n",
        "model.compile(optimizer='adam', loss='mse')\n",
        "\n",
        "# Treinar modelo com dados simulados\n",
        "X_train = route_data[:, :3]\n",
        "y_train = route_data[:, 4]\n",
        "\n",
        "model.fit(X_train, y_train, epochs=100, verbose=0)\n",
        "\n",
        "# Função para prever tempo de viagem\n",
        "def predict_travel_time(lat, lon, speed, weather):\n",
        "    return model.predict(np.array([[lat, lon, speed, weather]]))[0, 0]\n",
        "\n",
        "# Função para gerar uma rota dinâmica considerando tráfego marítimo e clima\n",
        "def generate_dynamic_route(lat, lon, speed, wind_speed, wave_height):\n",
        "    delta_lat = np.random.uniform(-0.1, 0.1, size=10)\n",
        "    delta_lon = np.random.uniform(-0.1, 0.1, size=10)\n",
        "    return np.column_stack((lat + delta_lat, lon + delta_lon))\n",
        "\n",
        "import os\n",
        "import geopandas as gpd\n",
        "\n",
        "# Download the Natural Earth low resolution dataset\n",
        "!wget https://www.naturalearthdata.com/http//www.naturalearthdata.com/download/110m/cultural/ne_110m_admin_0_countries.zip\n",
        "!unzip ne_110m_admin_0_countries.zip\n",
        "\n",
        "# Get the current working directory\n",
        "current_directory = os.getcwd()\n",
        "\n",
        "# Construct the full path to the shapefile\n",
        "shapefile_path = os.path.join(current_directory, \"ne_110m_admin_0_countries.shp\")\n",
        "\n",
        "# Load the shapefile using geopandas with the full path\n",
        "world = gpd.read_file(shapefile_path)\n",
        "\n",
        "# Entrada de coordenadas e velocidade\n",
        "lat = 15.0\n",
        "lon = -48.0\n",
        "speed = 20.0\n",
        "\n",
        "# Obter dados climáticos reais\n",
        "wind_speed, wave_height = get_weather_data(lat, lon)\n",
        "\n",
        "# Obter tráfego marítimo real\n",
        "ais_ships = get_ais_data(lat, lon)\n",
        "\n",
        "# Gerar rota otimizada\n",
        "dynamic_route = generate_dynamic_route(lat, lon, speed, wind_speed, wave_height)\n",
        "\n",
        "# Prever tempo de viagem\n",
        "predicted_time = predict_travel_time(lat, lon, speed, wind_speed)\n",
        "print(f\"Tempo estimado para ({lat}, {lon}) com {speed} nós, vento {wind_speed}m/s, ondas {wave_height}m: {predicted_time:.2f} horas\")\n",
        "\n",
        "# Exibir dados no mapa GIS\n",
        "plot_map(world, ais_ships, dynamic_route)\n",
        "\n",
        "# Criar um painel interativo com Folium\n",
        "m = folium.Map(location=[lat, lon], zoom_start=5)\n",
        "folium.Marker([lat, lon], popup=f\"Ponto Inicial - {predicted_time:.2f}h\").add_to(m)\n",
        "for ship in ais_ships:\n",
        "    folium.CircleMarker([ship[\"lat\"], ship[\"lon\"]], radius=5, color='red', fill=True, fill_opacity=0.7, popup=ship[\"name\"]).add_to(m)\n",
        "\n",
        "# Adicionar a rota otimizada ao mapa interativo\n",
        "for i in range(len(dynamic_route) - 1):\n",
        "    folium.PolyLine([dynamic_route[i], dynamic_route[i + 1]], color='blue', weight=2.5, opacity=0.7).add_to(m)\n",
        "\n",
        "# Salvar mapa\n",
        "m.save(\"marina_map.html\")\n"
      ],
      "metadata": {
        "colab": {
          "base_uri": "https://localhost:8080/",
          "height": 670
        },
        "id": "aEizPLIG66gQ",
        "outputId": "22be07d9-39eb-4bf4-9429-b6fb01fcb572"
      },
      "execution_count": 22,
      "outputs": [
        {
          "output_type": "stream",
          "name": "stdout",
          "text": [
            "--2025-03-12 15:44:38--  https://www.naturalearthdata.com/http//www.naturalearthdata.com/download/110m/cultural/ne_110m_admin_0_countries.zip\n",
            "Resolving www.naturalearthdata.com (www.naturalearthdata.com)... 50.87.253.14\n",
            "Connecting to www.naturalearthdata.com (www.naturalearthdata.com)|50.87.253.14|:443... connected.\n",
            "HTTP request sent, awaiting response... 500 Internal Server Error\n",
            "2025-03-12 15:44:38 ERROR 500: Internal Server Error.\n",
            "\n",
            "unzip:  cannot find or open ne_110m_admin_0_countries.zip, ne_110m_admin_0_countries.zip.zip or ne_110m_admin_0_countries.zip.ZIP.\n"
          ]
        },
        {
          "output_type": "error",
          "ename": "DataSourceError",
          "evalue": "/content/ne_110m_admin_0_countries.shp: No such file or directory",
          "traceback": [
            "\u001b[0;31m---------------------------------------------------------------------------\u001b[0m",
            "\u001b[0;31mDataSourceError\u001b[0m                           Traceback (most recent call last)",
            "\u001b[0;32m<ipython-input-22-34ac77ca5a6e>\u001b[0m in \u001b[0;36m<cell line: 0>\u001b[0;34m()\u001b[0m\n\u001b[1;32m     91\u001b[0m \u001b[0;34m\u001b[0m\u001b[0m\n\u001b[1;32m     92\u001b[0m \u001b[0;31m# Load the shapefile using geopandas with the full path\u001b[0m\u001b[0;34m\u001b[0m\u001b[0;34m\u001b[0m\u001b[0m\n\u001b[0;32m---> 93\u001b[0;31m \u001b[0mworld\u001b[0m \u001b[0;34m=\u001b[0m \u001b[0mgpd\u001b[0m\u001b[0;34m.\u001b[0m\u001b[0mread_file\u001b[0m\u001b[0;34m(\u001b[0m\u001b[0mshapefile_path\u001b[0m\u001b[0;34m)\u001b[0m\u001b[0;34m\u001b[0m\u001b[0;34m\u001b[0m\u001b[0m\n\u001b[0m\u001b[1;32m     94\u001b[0m \u001b[0;34m\u001b[0m\u001b[0m\n\u001b[1;32m     95\u001b[0m \u001b[0;31m# Entrada de coordenadas e velocidade\u001b[0m\u001b[0;34m\u001b[0m\u001b[0;34m\u001b[0m\u001b[0m\n",
            "\u001b[0;32m/usr/local/lib/python3.11/dist-packages/geopandas/io/file.py\u001b[0m in \u001b[0;36m_read_file\u001b[0;34m(filename, bbox, mask, columns, rows, engine, **kwargs)\u001b[0m\n\u001b[1;32m    292\u001b[0m \u001b[0;34m\u001b[0m\u001b[0m\n\u001b[1;32m    293\u001b[0m     \u001b[0;32mif\u001b[0m \u001b[0mengine\u001b[0m \u001b[0;34m==\u001b[0m \u001b[0;34m\"pyogrio\"\u001b[0m\u001b[0;34m:\u001b[0m\u001b[0;34m\u001b[0m\u001b[0;34m\u001b[0m\u001b[0m\n\u001b[0;32m--> 294\u001b[0;31m         return _read_file_pyogrio(\n\u001b[0m\u001b[1;32m    295\u001b[0m             \u001b[0mfilename\u001b[0m\u001b[0;34m,\u001b[0m \u001b[0mbbox\u001b[0m\u001b[0;34m=\u001b[0m\u001b[0mbbox\u001b[0m\u001b[0;34m,\u001b[0m \u001b[0mmask\u001b[0m\u001b[0;34m=\u001b[0m\u001b[0mmask\u001b[0m\u001b[0;34m,\u001b[0m \u001b[0mcolumns\u001b[0m\u001b[0;34m=\u001b[0m\u001b[0mcolumns\u001b[0m\u001b[0;34m,\u001b[0m \u001b[0mrows\u001b[0m\u001b[0;34m=\u001b[0m\u001b[0mrows\u001b[0m\u001b[0;34m,\u001b[0m \u001b[0;34m**\u001b[0m\u001b[0mkwargs\u001b[0m\u001b[0;34m\u001b[0m\u001b[0;34m\u001b[0m\u001b[0m\n\u001b[1;32m    296\u001b[0m         )\n",
            "\u001b[0;32m/usr/local/lib/python3.11/dist-packages/geopandas/io/file.py\u001b[0m in \u001b[0;36m_read_file_pyogrio\u001b[0;34m(path_or_bytes, bbox, mask, rows, **kwargs)\u001b[0m\n\u001b[1;32m    545\u001b[0m         \u001b[0mkwargs\u001b[0m\u001b[0;34m[\u001b[0m\u001b[0;34m\"columns\"\u001b[0m\u001b[0;34m]\u001b[0m \u001b[0;34m=\u001b[0m \u001b[0mkwargs\u001b[0m\u001b[0;34m.\u001b[0m\u001b[0mpop\u001b[0m\u001b[0;34m(\u001b[0m\u001b[0;34m\"include_fields\"\u001b[0m\u001b[0;34m)\u001b[0m\u001b[0;34m\u001b[0m\u001b[0;34m\u001b[0m\u001b[0m\n\u001b[1;32m    546\u001b[0m \u001b[0;34m\u001b[0m\u001b[0m\n\u001b[0;32m--> 547\u001b[0;31m     \u001b[0;32mreturn\u001b[0m \u001b[0mpyogrio\u001b[0m\u001b[0;34m.\u001b[0m\u001b[0mread_dataframe\u001b[0m\u001b[0;34m(\u001b[0m\u001b[0mpath_or_bytes\u001b[0m\u001b[0;34m,\u001b[0m \u001b[0mbbox\u001b[0m\u001b[0;34m=\u001b[0m\u001b[0mbbox\u001b[0m\u001b[0;34m,\u001b[0m \u001b[0;34m**\u001b[0m\u001b[0mkwargs\u001b[0m\u001b[0;34m)\u001b[0m\u001b[0;34m\u001b[0m\u001b[0;34m\u001b[0m\u001b[0m\n\u001b[0m\u001b[1;32m    548\u001b[0m \u001b[0;34m\u001b[0m\u001b[0m\n\u001b[1;32m    549\u001b[0m \u001b[0;34m\u001b[0m\u001b[0m\n",
            "\u001b[0;32m/usr/local/lib/python3.11/dist-packages/pyogrio/geopandas.py\u001b[0m in \u001b[0;36mread_dataframe\u001b[0;34m(path_or_buffer, layer, encoding, columns, read_geometry, force_2d, skip_features, max_features, where, bbox, mask, fids, sql, sql_dialect, fid_as_index, use_arrow, on_invalid, arrow_to_pandas_kwargs, **kwargs)\u001b[0m\n\u001b[1;32m    263\u001b[0m         \u001b[0;31m# as numpy does not directly support timezones.\u001b[0m\u001b[0;34m\u001b[0m\u001b[0;34m\u001b[0m\u001b[0m\n\u001b[1;32m    264\u001b[0m         \u001b[0mkwargs\u001b[0m\u001b[0;34m[\u001b[0m\u001b[0;34m\"datetime_as_string\"\u001b[0m\u001b[0;34m]\u001b[0m \u001b[0;34m=\u001b[0m \u001b[0;32mTrue\u001b[0m\u001b[0;34m\u001b[0m\u001b[0;34m\u001b[0m\u001b[0m\n\u001b[0;32m--> 265\u001b[0;31m     result = read_func(\n\u001b[0m\u001b[1;32m    266\u001b[0m         \u001b[0mpath_or_buffer\u001b[0m\u001b[0;34m,\u001b[0m\u001b[0;34m\u001b[0m\u001b[0;34m\u001b[0m\u001b[0m\n\u001b[1;32m    267\u001b[0m         \u001b[0mlayer\u001b[0m\u001b[0;34m=\u001b[0m\u001b[0mlayer\u001b[0m\u001b[0;34m,\u001b[0m\u001b[0;34m\u001b[0m\u001b[0;34m\u001b[0m\u001b[0m\n",
            "\u001b[0;32m/usr/local/lib/python3.11/dist-packages/pyogrio/raw.py\u001b[0m in \u001b[0;36mread\u001b[0;34m(path_or_buffer, layer, encoding, columns, read_geometry, force_2d, skip_features, max_features, where, bbox, mask, fids, sql, sql_dialect, return_fids, datetime_as_string, **kwargs)\u001b[0m\n\u001b[1;32m    196\u001b[0m     \u001b[0mdataset_kwargs\u001b[0m \u001b[0;34m=\u001b[0m \u001b[0m_preprocess_options_key_value\u001b[0m\u001b[0;34m(\u001b[0m\u001b[0mkwargs\u001b[0m\u001b[0;34m)\u001b[0m \u001b[0;32mif\u001b[0m \u001b[0mkwargs\u001b[0m \u001b[0;32melse\u001b[0m \u001b[0;34m{\u001b[0m\u001b[0;34m}\u001b[0m\u001b[0;34m\u001b[0m\u001b[0;34m\u001b[0m\u001b[0m\n\u001b[1;32m    197\u001b[0m \u001b[0;34m\u001b[0m\u001b[0m\n\u001b[0;32m--> 198\u001b[0;31m     return ogr_read(\n\u001b[0m\u001b[1;32m    199\u001b[0m         \u001b[0mget_vsi_path_or_buffer\u001b[0m\u001b[0;34m(\u001b[0m\u001b[0mpath_or_buffer\u001b[0m\u001b[0;34m)\u001b[0m\u001b[0;34m,\u001b[0m\u001b[0;34m\u001b[0m\u001b[0;34m\u001b[0m\u001b[0m\n\u001b[1;32m    200\u001b[0m         \u001b[0mlayer\u001b[0m\u001b[0;34m=\u001b[0m\u001b[0mlayer\u001b[0m\u001b[0;34m,\u001b[0m\u001b[0;34m\u001b[0m\u001b[0;34m\u001b[0m\u001b[0m\n",
            "\u001b[0;32mpyogrio/_io.pyx\u001b[0m in \u001b[0;36mpyogrio._io.ogr_read\u001b[0;34m()\u001b[0m\n",
            "\u001b[0;32mpyogrio/_io.pyx\u001b[0m in \u001b[0;36mpyogrio._io.ogr_open\u001b[0;34m()\u001b[0m\n",
            "\u001b[0;31mDataSourceError\u001b[0m: /content/ne_110m_admin_0_countries.shp: No such file or directory"
          ]
        }
      ]
    }
  ]
}